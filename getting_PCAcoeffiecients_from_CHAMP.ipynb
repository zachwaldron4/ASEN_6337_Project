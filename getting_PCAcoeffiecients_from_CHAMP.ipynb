{
 "cells": [
  {
   "cell_type": "markdown",
   "metadata": {},
   "source": [
    "#### We follow along with Lei et al 2012 to show how CHAMP data can be used to reproduce the PCA Coefficients\n",
    "\n",
    "# Some Notes:\n",
    "- CHAMP or GRACE takes about 130 days to have a complete coverage of 24-h local time because of its high inclination."
   ]
  },
  {
   "cell_type": "code",
   "execution_count": 1,
   "metadata": {},
   "outputs": [],
   "source": [
    "from lib_ind_proj import *\n",
    "import numpy as np\n",
    "import pandas as pd\n",
    "from sklearn.decomposition import PCA\n",
    "from sklearn.decomposition import SparsePCA\n"
   ]
  },
  {
   "cell_type": "code",
   "execution_count": 2,
   "metadata": {},
   "outputs": [
    {
     "name": "stdout",
     "output_type": "stream",
     "text": [
      "(3, 5767169)\n"
     ]
    }
   ],
   "source": [
    "# years = [2002]\n",
    "# days = np.arange(1,367)\n",
    "# for iyear, year in enumerate(years):\n",
    "#     for iday, day in enumerate(days):\n",
    "#         champ = get_CHAMP_data(year, day)\n",
    "\n",
    "# year = 2002\n",
    "# day = 81\n",
    "# path_champ = data_path + 'day_night_data/CHAMP_full_2002_2005/'\n",
    "# filename = path_champ + '%d/Density_3deg_' % year + str(year)[-2:]  +'_%03d.mat' % day\n",
    "# data_champ = loadmat(filename)\n",
    "\n",
    "\n",
    "champ_ts = pd.read_pickle('champ_ts_pickle.pkl')\n",
    "\n",
    "\n",
    "arr = [champ_ts['rho'].values, champ_ts['lon_full'].values, champ_ts['lat_full'].values]\n",
    "\n",
    "\n",
    "print(np.shape(arr))"
   ]
  },
  {
   "cell_type": "code",
   "execution_count": 3,
   "metadata": {},
   "outputs": [
    {
     "name": "stdout",
     "output_type": "stream",
     "text": [
      "cov_matrix (5, 5)\n",
      "[[ 4.13020051e-24 -2.84233409e-16  1.17041239e-12 -5.50216785e-13\n",
      "  -5.23668010e-13]\n",
      " [-2.84233409e-16  4.80230311e+01 -3.92611671e-03 -1.17742233e+00\n",
      "   1.97235180e-01]\n",
      " [ 1.17041239e-12 -3.92611671e-03  4.81808279e+01 -2.90621878e-01\n",
      "   1.22011521e+00]\n",
      " [-5.50216785e-13 -1.17742233e+00 -2.90621878e-01  1.07954732e+04\n",
      "   7.44212871e-01]\n",
      " [-5.23668010e-13  1.97235180e-01  1.22011521e+00  7.44212871e-01\n",
      "   2.61584977e+03]]\n"
     ]
    }
   ],
   "source": [
    "# cov_mat = pd.DataFrame.cov(champ_ts['rho'])\n",
    "cov_matrix = champ_ts.cov\n",
    "print('cov_matrix',np.shape(cov_matrix()))\n",
    "print(cov_matrix().values)\n",
    "\n",
    "cov_matrix = cov_matrix().values\n",
    "\n",
    "# np.transpose(data_champ['LatBin'][0][0][0])[0]\n",
    "\n",
    "\n",
    "# from scipy.special import sph_harm\n",
    "# # sph_harm(m, n, theta, phi) =\n",
    "# sph = sph_harm(0,0, champ_ts['lat_full'][0], champ_ts['lon_full'][0])\n",
    "# print(sph)"
   ]
  },
  {
   "cell_type": "code",
   "execution_count": 4,
   "metadata": {},
   "outputs": [],
   "source": [
    "# lon_min = champ_ts['lon_full'].min()\n",
    "# lon_max = champ_ts['lon_full'].max()\n",
    "# print(lon_min,lon_max)\n",
    "\n",
    "# lat_min = champ_ts['lat_full'].min()\n",
    "# lat_max = champ_ts['lat_full'].max()\n",
    "# print(lat_min,lat_max)\n",
    "\n",
    "# print(champ_ts['lat_full'][57] - champ_ts['lat_full'][56])\n"
   ]
  },
  {
   "cell_type": "code",
   "execution_count": 7,
   "metadata": {},
   "outputs": [
    {
     "name": "stdout",
     "output_type": "stream",
     "text": [
      "X_pca (5, 5)\n"
     ]
    }
   ],
   "source": [
    "## Want to look for trends in the time series at individual points\n",
    "# img_arr =  arr\n",
    "\n",
    "\n",
    "# Create data matrix\n",
    "# img_arr = np.einsum('kij->ijk', img_arr) # added step\n",
    "# X = np.reshape(img_arr, (3 , 5767169)) \n",
    "\n",
    "num_PC_components = 5\n",
    "\n",
    "# Compute PCA\n",
    "pca = PCA(n_components=num_PC_components)\n",
    "pca.fit(cov_matrix)\n",
    "\n",
    "\n",
    "X_pca = pca.fit_transform(cov_matrix)\n",
    "\n",
    "\n",
    "print('X_pca', X_pca.shape)\n",
    "# Xnew=np.reshape(X_pca,( 36,72 , num_PC_components ))"
   ]
  },
  {
   "cell_type": "code",
   "execution_count": null,
   "metadata": {},
   "outputs": [],
   "source": []
  }
 ],
 "metadata": {
  "kernelspec": {
   "display_name": "Python 3",
   "language": "python",
   "name": "python3"
  },
  "language_info": {
   "codemirror_mode": {
    "name": "ipython",
    "version": 3
   },
   "file_extension": ".py",
   "mimetype": "text/x-python",
   "name": "python",
   "nbconvert_exporter": "python",
   "pygments_lexer": "ipython3",
   "version": "3.7.5"
  }
 },
 "nbformat": 4,
 "nbformat_minor": 2
}
